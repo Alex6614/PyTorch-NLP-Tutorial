{
  "nbformat": 4,
  "nbformat_minor": 0,
  "metadata": {
    "colab": {
      "name": "Untitled2.ipynb",
      "provenance": []
    },
    "kernelspec": {
      "name": "python3",
      "display_name": "Python 3"
    }
  },
  "cells": [
    {
      "cell_type": "markdown",
      "metadata": {
        "id": "QeOwh6G4ZmgB",
        "colab_type": "text"
      },
      "source": [
        "# Download data from Kaggle\n"
      ]
    },
    {
      "cell_type": "code",
      "metadata": {
        "id": "beDyuXvFXtKP",
        "colab_type": "code",
        "colab": {}
      },
      "source": [
        "import os\n",
        "os.environ['KAGGLE_USERNAME'] = \"xxxxx\" # username from the json file\n",
        "os.environ['KAGGLE_KEY'] = \"xxxxxxxxxxxxx\" # key from the json file\n",
        "!kaggle competitions download -c fake-news"
      ],
      "execution_count": 0,
      "outputs": []
    },
    {
      "cell_type": "code",
      "metadata": {
        "id": "BmakwVF_Y3wa",
        "colab_type": "code",
        "colab": {}
      },
      "source": [
        "import zipfile\n",
        "\n",
        "with zipfile.ZipFile('test.csv.zip', 'r') as zip_ref:\n",
        "    zip_ref.extractall('')\n",
        "\n",
        "with zipfile.ZipFile('train.csv.zip', 'r') as zip_ref:\n",
        "    zip_ref.extractall('')"
      ],
      "execution_count": 0,
      "outputs": []
    },
    {
      "cell_type": "code",
      "metadata": {
        "id": "Fin0tJeXZHxu",
        "colab_type": "code",
        "colab": {}
      },
      "source": [
        "import pandas as pd\n",
        "\n",
        "test_df = pd.read_csv('test.csv')\n",
        "train_df = pd.read_csv('train.csv') \n",
        "submit_df = pd.read_csv('submit.csv') \n",
        "test_df['label'] = submit_df['label']\n",
        "\n",
        "print(\"Rows in test: %s \" % len(test_df))\n",
        "print(\"Rows in train: %s \" % len(train_df))"
      ],
      "execution_count": 0,
      "outputs": []
    },
    {
      "cell_type": "code",
      "metadata": {
        "id": "SiavXU9T1w6b",
        "colab_type": "code",
        "colab": {}
      },
      "source": [
        "train_df.head(5)"
      ],
      "execution_count": 0,
      "outputs": []
    },
    {
      "cell_type": "markdown",
      "metadata": {
        "id": "OeyIBvzROrik",
        "colab_type": "text"
      },
      "source": [
        "# Imports"
      ]
    },
    {
      "cell_type": "code",
      "metadata": {
        "id": "pE3fYoQ_OnGr",
        "colab_type": "code",
        "colab": {}
      },
      "source": [
        "import torch\n",
        "import torch.nn as nn\n",
        "import math\n",
        "import random\n",
        "import string\n",
        "import time\n",
        "import matplotlib.pyplot as plt\n",
        "\n",
        "%matplotlib inline"
      ],
      "execution_count": 0,
      "outputs": []
    },
    {
      "cell_type": "markdown",
      "metadata": {
        "id": "SE12lLEwO__C",
        "colab_type": "text"
      },
      "source": [
        "# Preparing Data"
      ]
    },
    {
      "cell_type": "code",
      "metadata": {
        "id": "TcT3ebt1O_zj",
        "colab_type": "code",
        "colab": {}
      },
      "source": [
        "# Generate a list of tuples (title, label) for each data row\n",
        "def read_data(dataframe):\n",
        "    df = dataframe[['title', 'label']]\n",
        "    df = df.dropna(subset=['title', 'label'])\n",
        "    return [tuple(x) for x in df.to_numpy()]\n",
        "\n",
        "\n",
        "def random_training_pair(pairs):\n",
        "    rand_index = random.randint(0, len(pairs) - 1)\n",
        "    return pairs[rand_index]"
      ],
      "execution_count": 0,
      "outputs": []
    },
    {
      "cell_type": "markdown",
      "metadata": {
        "id": "zPau7B-fPBpc",
        "colab_type": "text"
      },
      "source": [
        "# Establish Tensors"
      ]
    },
    {
      "cell_type": "code",
      "metadata": {
        "id": "aNERZ6qoVNJN",
        "colab_type": "code",
        "colab": {}
      },
      "source": [
        "all_characters = string.printable\n",
        "n_characters = len(all_characters)"
      ],
      "execution_count": 0,
      "outputs": []
    },
    {
      "cell_type": "code",
      "metadata": {
        "id": "4I_k-E_JO9TQ",
        "colab_type": "code",
        "colab": {}
      },
      "source": [
        "# Turns line into <line_length x 1 x n_letters> tensor\n",
        "def line_to_tensor(line):\n",
        "    tensor = torch.zeros(len(line), 1, n_characters)\n",
        "    for li, letter in enumerate(line):\n",
        "        tensor[li][0][all_characters.find(letter)] = 1\n",
        "    return tensor\n",
        "\n",
        "\n",
        "# Turns label into <1 x 1> tensor\n",
        "def label_to_tensor(label):\n",
        "    return torch.tensor([label], dtype=torch.long)"
      ],
      "execution_count": 0,
      "outputs": []
    },
    {
      "cell_type": "markdown",
      "metadata": {
        "id": "Rlw1SlbwPCXC",
        "colab_type": "text"
      },
      "source": [
        "# Create Network"
      ]
    },
    {
      "cell_type": "code",
      "metadata": {
        "id": "uOXyfr5RPClH",
        "colab_type": "code",
        "colab": {}
      },
      "source": [
        "class RNNClassify(nn.Module):\n",
        "    def __init__(self, input_size, hidden_size, output_size):\n",
        "        super(RNNClassify, self).__init__()\n",
        "\n",
        "        self.hidden_size = hidden_size\n",
        "        \n",
        "        # Initialize linear and softmax layers\n",
        "        self.i2h = nn.Linear(input_size + hidden_size, hidden_size)\n",
        "        self.i2o = nn.Linear(input_size + hidden_size, output_size)\n",
        "        self.softmax = nn.LogSoftmax(dim=1)\n",
        "\n",
        "    def forward(self, input, hidden=None):\n",
        "        # Concatenate input tensor and hidden state\n",
        "        combined = torch.cat((input, hidden), 1)\n",
        "\n",
        "        hidden = self.i2h(combined)\n",
        "        output = self.i2o(combined)\n",
        "        output = self.softmax(output)\n",
        "        return output, hidden\n",
        "\n",
        "    def init_hidden(self):\n",
        "        return torch.zeros(1, self.hidden_size)\n",
        "\n",
        "\n",
        "# Takes the category with the highest probability as a guess\n",
        "def category_from_output(output):\n",
        "    top_n, top_i = output.topk(1)\n",
        "    return top_i[0].item()"
      ],
      "execution_count": 0,
      "outputs": []
    },
    {
      "cell_type": "markdown",
      "metadata": {
        "id": "Q8FEYN0pPC0y",
        "colab_type": "text"
      },
      "source": [
        "# Train Network"
      ]
    },
    {
      "cell_type": "code",
      "metadata": {
        "id": "cnpW6cFbPDHh",
        "colab_type": "code",
        "colab": {}
      },
      "source": [
        "# Helper function to display how long the training has been running\n",
        "def time_since(since):\n",
        "    now = time.time()\n",
        "    s = now - since\n",
        "    m = math.floor(s / 60)\n",
        "    s -= m * 60\n",
        "    return '%dm %ds' % (m, s)\n",
        "\n",
        "\n",
        "# Creates function that performs a step in the training loop\n",
        "def make_train_step(model, criterion, optimizer):\n",
        "    def train_step(x, y):\n",
        "        # Sets model to TRAIN mode\n",
        "        model.train()\n",
        "        \n",
        "        # Initialize hidden state\n",
        "        hidden = model.init_hidden()\n",
        "\n",
        "        # Makes predictions, running through each letter tensor\n",
        "        for i in range(x.size()[0]):\n",
        "            output, hidden = model(x[i], hidden)\n",
        "\n",
        "        # Computes loss\n",
        "        loss = criterion(output, y)\n",
        "\n",
        "        # Computes gradients\n",
        "        loss.backward()\n",
        "\n",
        "        # Updates parameters\n",
        "        optimizer.step()\n",
        "        optimizer.zero_grad()\n",
        "\n",
        "        return output, loss.item()\n",
        "\n",
        "    return train_step\n",
        "\n",
        "# Run training on a given dataframe\n",
        "def run(train_df, plot=False):\n",
        "    n_iters = 100000\n",
        "    print_every = 5000\n",
        "    plot_every = 1000\n",
        "    hidden_len = 256\n",
        "\n",
        "    current_loss = 0\n",
        "    all_losses = []\n",
        "\n",
        "    model = RNNClassify(n_characters, hidden_len, 2)\n",
        "    data_tuples = read_data(train_df)\n",
        "\n",
        "    # Create the optimizer and loss function (criterion)\n",
        "    optimizer = torch.optim.SGD(model.parameters(), lr=0.0002)\n",
        "    criterion = nn.NLLLoss()\n",
        "\n",
        "    train_step = make_train_step(model, criterion, optimizer)\n",
        "\n",
        "    start = time.time()\n",
        "    \n",
        "    for i in range(1, n_iters + 1):\n",
        "        # Get data and turn input/target into tensors\n",
        "        title, label = random_training_pair(data_tuples)\n",
        "        input_tensor = line_to_tensor(title)\n",
        "        target_tensor = label_to_tensor(label)\n",
        "\n",
        "        # Run one training step\n",
        "        output, loss = train_step(input_tensor, target_tensor)\n",
        "\n",
        "        # The rest of the code in this function is to show how\n",
        "        # the network is learning\n",
        "        current_loss += loss\n",
        "\n",
        "        if i % print_every == 0:\n",
        "            guess = category_from_output(output)\n",
        "            correct = '✓' if label == guess else '✗'\n",
        "            print('%d %d%% (%s) %.4f %s %s' % (i, i / n_iters * 100, time_since(start), loss, title, correct))\n",
        "        \n",
        "        if i % plot_every == 0:\n",
        "            all_losses.append(current_loss / plot_every)\n",
        "            current_loss = 0\n",
        "\n",
        "    if plot:\n",
        "        plt.figure()\n",
        "        plt.plot(all_losses)\n",
        "\n",
        "    # Save the model\n",
        "    torch.save(model.state_dict(), \"test.model\")\n",
        "\n",
        "run(train_df, plot=True)"
      ],
      "execution_count": 0,
      "outputs": []
    },
    {
      "cell_type": "markdown",
      "metadata": {
        "id": "ChSpuUmVPDSN",
        "colab_type": "text"
      },
      "source": [
        "# Evaluate Model"
      ]
    },
    {
      "cell_type": "code",
      "metadata": {
        "id": "7a2-Ry-NPD_G",
        "colab_type": "code",
        "colab": {}
      },
      "source": [
        "# Predict the label given a title\n",
        "def evaluate(title, model):\n",
        "    model.eval()\n",
        "    hidden = model.init_hidden()\n",
        "    input_tensor = line_to_tensor(title)\n",
        "    for i in range(input_tensor.size()[0]):\n",
        "        output, hidden = model(input_tensor[i], hidden)\n",
        "    return category_from_output(output)\n",
        "\n",
        "# Calculate accuracy, recall, and precision on a given test dataframe\n",
        "def calculate_accuracy(model, test_df):\n",
        "    false_positives = 0\n",
        "    false_negatives = 0\n",
        "    true_positives = 0\n",
        "    true_negatives = 0\n",
        "\n",
        "    tuples = read_data(test_df)\n",
        "    for title, label in tuples:\n",
        "        prediction = evaluate(title, model)\n",
        "        if label == prediction and label:\n",
        "            true_positives += 1\n",
        "        if label == prediction and not label:\n",
        "            true_negatives += 1\n",
        "        if label != prediction and label:\n",
        "            false_negatives += 1\n",
        "        if label != prediction and not label:\n",
        "            false_positives += 1\n",
        "    accuracy = (true_positives + true_negatives) / len(test_df)\n",
        "    recall = true_positives / (true_positives + false_negatives)\n",
        "    precision = true_positives / (true_positives + false_positives)\n",
        "    return accuracy, recall, precision"
      ],
      "execution_count": 0,
      "outputs": []
    },
    {
      "cell_type": "code",
      "metadata": {
        "id": "AGXsoIR9RbIB",
        "colab_type": "code",
        "colab": {}
      },
      "source": [
        "model = RNNClassify(n_characters, 256, 2)\n",
        "model.load_state_dict(torch.load('test.model'))\n",
        "calculate_accuracy(model, test_df)"
      ],
      "execution_count": 0,
      "outputs": []
    }
  ]
}